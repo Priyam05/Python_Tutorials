{
 "cells": [
  {
   "cell_type": "code",
   "execution_count": 2,
   "metadata": {},
   "outputs": [
    {
     "name": "stdout",
     "output_type": "stream",
     "text": [
      "Hello World!!\n"
     ]
    }
   ],
   "source": [
    "print(\"Hello World!!\")"
   ]
  },
  {
   "cell_type": "code",
   "execution_count": 3,
   "metadata": {},
   "outputs": [],
   "source": [
    "str=\"Hello World!\""
   ]
  },
  {
   "cell_type": "code",
   "execution_count": 4,
   "metadata": {},
   "outputs": [
    {
     "name": "stdout",
     "output_type": "stream",
     "text": [
      "Hello World!\n"
     ]
    }
   ],
   "source": [
    "print(str)"
   ]
  },
  {
   "cell_type": "code",
   "execution_count": 9,
   "metadata": {},
   "outputs": [
    {
     "name": "stdout",
     "output_type": "stream",
     "text": [
      "Hello World!Hello World!Hello World!\n"
     ]
    }
   ],
   "source": [
    "print(str*3)"
   ]
  },
  {
   "cell_type": "markdown",
   "metadata": {},
   "source": []
  },
  {
   "cell_type": "code",
   "execution_count": 14,
   "metadata": {},
   "outputs": [
    {
     "name": "stdout",
     "output_type": "stream",
     "text": [
      "Value is less than 2\n"
     ]
    }
   ],
   "source": [
    "var=1\n",
    "if(var>2):print(\"Value is greater than 2\")\n",
    "elif(var<2):print(\"Value is less than 2\")\n",
    "else:print(\"Value is 2\")"
   ]
  },
  {
   "cell_type": "code",
   "execution_count": 22,
   "metadata": {},
   "outputs": [
    {
     "name": "stdout",
     "output_type": "stream",
     "text": [
      "P\n",
      "r\n"
     ]
    }
   ],
   "source": [
    "for letter in 'Priyam':\n",
    "    if(letter=='i'):\n",
    "        break\n",
    "    print(letter)"
   ]
  },
  {
   "cell_type": "code",
   "execution_count": 27,
   "metadata": {},
   "outputs": [
    {
     "data": {
      "text/plain": [
       "1001"
      ]
     },
     "execution_count": 27,
     "metadata": {},
     "output_type": "execute_result"
    }
   ],
   "source": [
    "import math\n",
    "var2=1000.2\n",
    "math.ceil(var2)"
   ]
  },
  {
   "cell_type": "code",
   "execution_count": 35,
   "metadata": {},
   "outputs": [],
   "source": [
    "myList=['Priyam','Dolly','Mummy','Papa']"
   ]
  },
  {
   "cell_type": "code",
   "execution_count": 36,
   "metadata": {},
   "outputs": [],
   "source": [
    "myList.reverse()"
   ]
  },
  {
   "cell_type": "code",
   "execution_count": 37,
   "metadata": {},
   "outputs": [
    {
     "data": {
      "text/plain": [
       "['Papa', 'Mummy', 'Dolly', 'Priyam']"
      ]
     },
     "execution_count": 37,
     "metadata": {},
     "output_type": "execute_result"
    }
   ],
   "source": [
    "myList"
   ]
  },
  {
   "cell_type": "code",
   "execution_count": 6,
   "metadata": {},
   "outputs": [
    {
     "name": "stdout",
     "output_type": "stream",
     "text": [
      "Local current time:Mon Mar 25 12:28:00 2019\n"
     ]
    }
   ],
   "source": [
    "import time\n",
    "localtime=time.asctime(time.localtime(time.time()))\n",
    "print(\"Local current time:\"+str(localtime))"
   ]
  },
  {
   "cell_type": "code",
   "execution_count": 7,
   "metadata": {},
   "outputs": [],
   "source": [
    "def printme(sampleText):\n",
    "    print(sampleText)\n",
    "    return"
   ]
  },
  {
   "cell_type": "code",
   "execution_count": 8,
   "metadata": {},
   "outputs": [
    {
     "name": "stdout",
     "output_type": "stream",
     "text": [
      "Priyam\n"
     ]
    }
   ],
   "source": [
    "printme(\"Priyam\")"
   ]
  },
  {
   "cell_type": "code",
   "execution_count": 32,
   "metadata": {},
   "outputs": [],
   "source": [
    "def refTest(sampleList):\n",
    "    sampleList=[10,20,30,40]\n",
    "    print(sampleList)\n",
    "    return"
   ]
  },
  {
   "cell_type": "code",
   "execution_count": 33,
   "metadata": {},
   "outputs": [
    {
     "name": "stdout",
     "output_type": "stream",
     "text": [
      "[10, 20, 30, 40]\n"
     ]
    }
   ],
   "source": [
    "sampleList=[1,2,3,4]\n",
    "refTest(sampleList)"
   ]
  },
  {
   "cell_type": "code",
   "execution_count": 34,
   "metadata": {},
   "outputs": [
    {
     "name": "stdout",
     "output_type": "stream",
     "text": [
      "[1, 2, 3, 4]\n"
     ]
    }
   ],
   "source": [
    "print(sampleList)"
   ]
  },
  {
   "cell_type": "markdown",
   "metadata": {},
   "source": [
    "#Variable-length arguments"
   ]
  },
  {
   "cell_type": "code",
   "execution_count": 43,
   "metadata": {},
   "outputs": [],
   "source": [
    "def varArguments(arg1,*args):\n",
    "    print(arg1)\n",
    "    for sample in args:\n",
    "        print(sample)\n",
    "    return"
   ]
  },
  {
   "cell_type": "code",
   "execution_count": 45,
   "metadata": {},
   "outputs": [
    {
     "name": "stdout",
     "output_type": "stream",
     "text": [
      "Priyam\n",
      "Dolly\n",
      "Mummy\n",
      "Papa\n"
     ]
    }
   ],
   "source": [
    "varArguments(\"Priyam\",\"Dolly\",\"Mummy\",\"Papa\")"
   ]
  },
  {
   "cell_type": "markdown",
   "metadata": {},
   "source": [
    "#Lambda Functions"
   ]
  },
  {
   "cell_type": "code",
   "execution_count": 47,
   "metadata": {},
   "outputs": [],
   "source": [
    "sum=lambda arg1, arg2: arg1+arg2"
   ]
  },
  {
   "cell_type": "code",
   "execution_count": 48,
   "metadata": {},
   "outputs": [
    {
     "data": {
      "text/plain": [
       "30"
      ]
     },
     "execution_count": 48,
     "metadata": {},
     "output_type": "execute_result"
    }
   ],
   "source": [
    "sum(10,20)"
   ]
  },
  {
   "cell_type": "markdown",
   "metadata": {},
   "source": [
    "#Multiple Return"
   ]
  },
  {
   "cell_type": "code",
   "execution_count": 49,
   "metadata": {},
   "outputs": [],
   "source": [
    "def multipleReturn(arg1, arg2):\n",
    "    total=arg1+arg2\n",
    "    return arg1, arg2, total"
   ]
  },
  {
   "cell_type": "code",
   "execution_count": 57,
   "metadata": {},
   "outputs": [
    {
     "name": "stdout",
     "output_type": "stream",
     "text": [
      "37\n"
     ]
    }
   ],
   "source": [
    "val1,val2,myTotal=multipleReturn(19,18)\n",
    "print(myTotal)"
   ]
  },
  {
   "cell_type": "markdown",
   "metadata": {},
   "source": [
    "#Modules"
   ]
  },
  {
   "cell_type": "code",
   "execution_count": 61,
   "metadata": {},
   "outputs": [
    {
     "name": "stdout",
     "output_type": "stream",
     "text": [
      "Input String is Priyam\n"
     ]
    }
   ],
   "source": [
    "from Modules import Test\n",
    "Test.printFun(\"Priyam\")"
   ]
  },
  {
   "cell_type": "code",
   "execution_count": 63,
   "metadata": {},
   "outputs": [
    {
     "data": {
      "text/plain": [
       "{'In': ['',\n",
       "  'myList.reverse()',\n",
       "  'import time\\nlocaltime=time.localtime(time.time())\\nprint(\"Local current time:\"+localtime)',\n",
       "  'import time\\nlocaltime=time.localtime(time.time())\\nprint(\"Local current time:\"+str(localtime)',\n",
       "  'import time\\nlocaltime=time.localtime(time.time())\\nprint(\"Local current time:\"+str(localtime))',\n",
       "  'import time\\nlocaltime=time.asctime(time.time())\\nprint(\"Local current time:\"+str(localtime))',\n",
       "  'import time\\nlocaltime=time.asctime(time.localtime(time.time()))\\nprint(\"Local current time:\"+str(localtime))',\n",
       "  'def printme(sampleText):\\n    print(sampleText)\\n    return',\n",
       "  'printme(\"Priyam\")',\n",
       "  'def refTest(sampleInteger):\\n    sampleInteger+=1\\n    return',\n",
       "  'sampleInteger=1\\nrefTest(sampleInteger)',\n",
       "  'print sampleInteger',\n",
       "  'print(sampleInteger)',\n",
       "  'sampleInteger=1\\nrefTest(sampleInteger)',\n",
       "  'print(sampleInteger)',\n",
       "  'sampleInteger=1\\nrefTest(sampleInteger)\\nrefTest(sampleInteger)',\n",
       "  'print(sampleInteger)',\n",
       "  'sampleInteger=1\\nrefTest(sampleInteger)\\nrefTest(sampleInteger)',\n",
       "  'print(sampleInteger)',\n",
       "  'def refTest(sampleInteger):\\n    sampleInteger=sampleInteger+1\\n    return',\n",
       "  'def refTest(sampleInteger):\\n    sampleInteger=sampleInteger+1\\n    return',\n",
       "  'refTest(sampleInteger)\\nprint(sampleInteger)',\n",
       "  'sampleInteger=1\\nrefTest(sampleInteger)\\nprint(sampleInteger)',\n",
       "  'sampleInteger=1\\nrefTest(sampleInteger)\\nprint(sampleInteger)',\n",
       "  'sampleInteger=1\\nrefTest(sampleInteger)',\n",
       "  'def refTest(sampleInteger):\\n    sampleInteger=sampleInteger+1\\n    print(\"yoyoy\"+str(sampleInteger)\\n    return',\n",
       "  'def refTest(sampleInteger):\\n    sampleInteger=sampleInteger+1\\n    print(\"yoyoy\"+str(sampleInteger))\\n    return',\n",
       "  'sampleInteger=1\\nrefTest(sampleInteger)',\n",
       "  'print(sampleInteger)',\n",
       "  'def refTest(sampleList):\\n    sampleList.append(5)\\n    print(sampleList)\\n    return',\n",
       "  'sampleList=[1,2,3,4]\\nrefTest(sampleList)',\n",
       "  'print(sampleList)',\n",
       "  'def refTest(sampleList):\\n    sampleList=[10,20,30,40]\\n    print(sampleList)\\n    return',\n",
       "  'sampleList=[1,2,3,4]\\nrefTest(sampleList)',\n",
       "  'print(sampleList)',\n",
       "  \"myList=['Priyam','Dolly','Mummy','Papa']\",\n",
       "  'myList.reverse()',\n",
       "  'myList',\n",
       "  'def varArguments(arg1,*args):\\n    print(arg1)\\n    for sample in args:\\n        print(sample)\\n    return',\n",
       "  'varArguments(\"Priyam\",\"Dolly\")',\n",
       "  'varArguments(\"Priyam\",\"Dolly\",\"Papa\",\"Mummy\")',\n",
       "  'varArguments(\"Priyam\")',\n",
       "  'varArguments()',\n",
       "  'def varArguments(arg1=\"Priyam\",*args):\\n    print(arg1)\\n    for sample in args:\\n        print(sample)\\n    return',\n",
       "  'varArguments()',\n",
       "  'varArguments(\"Priyam\",\"Dolly\",\"Mummy\",\"Papa\")',\n",
       "  '#Lambda Functions',\n",
       "  'sum=lambda arg1, arg2: arg1+arg2',\n",
       "  'sum(10,20)',\n",
       "  'def multipleReturn(arg1, arg2):\\n    total=arg1+arg2\\n    return arg1, arg2, total',\n",
       "  'myTotal=multipleReturn(19,18)\\nprint(myTotal)',\n",
       "  'myTotal=multipleReturn(19,18)\\nprint(myTotal.type})',\n",
       "  'myTotal=multipleReturn(19,18)\\nprint(myTotal.type)',\n",
       "  'myTotal=multipleReturn(19,18)\\nprint(type(myTotal))',\n",
       "  'myTotal=multipleReturn(19,18)\\nprint(myTotal(0))',\n",
       "  'myTotal=multipleReturn(19,18)\\nprint(myTotal[0])',\n",
       "  'val1,val2=multipleReturn(19,18)\\nprint(val1)',\n",
       "  'val1,val2,myTotal=multipleReturn(19,18)\\nprint(myTotal)',\n",
       "  'import Modules/Test',\n",
       "  'import Modules\\\\Test',\n",
       "  'from Modules import Test',\n",
       "  'from Modules import Test\\nTest.printFun(\"Priyam\")',\n",
       "  'globals()',\n",
       "  'locals()'],\n",
       " 'Out': {37: ['Papa', 'Mummy', 'Dolly', 'Priyam'], 48: 30, 62: {...}},\n",
       " 'Test': <module 'Modules.Test' from 'C:\\\\Users\\\\Priyam\\\\Hiatus2\\\\Python_Tutorials\\\\Modules\\\\Test.py'>,\n",
       " '_': {...},\n",
       " '_37': ['Papa', 'Mummy', 'Dolly', 'Priyam'],\n",
       " '_48': 30,\n",
       " '_62': {...},\n",
       " '__': 30,\n",
       " '___': ['Papa', 'Mummy', 'Dolly', 'Priyam'],\n",
       " '__builtin__': <module 'builtins' (built-in)>,\n",
       " '__builtins__': <module 'builtins' (built-in)>,\n",
       " '__doc__': 'Automatically created module for IPython interactive environment',\n",
       " '__loader__': None,\n",
       " '__name__': '__main__',\n",
       " '__package__': None,\n",
       " '__spec__': None,\n",
       " '_dh': ['C:\\\\Users\\\\Priyam\\\\Hiatus2\\\\Python_Tutorials'],\n",
       " '_i': 'globals()',\n",
       " '_i1': 'myList.reverse()',\n",
       " '_i10': 'sampleInteger=1\\nrefTest(sampleInteger)',\n",
       " '_i11': 'print sampleInteger',\n",
       " '_i12': 'print(sampleInteger)',\n",
       " '_i13': 'sampleInteger=1\\nrefTest(sampleInteger)',\n",
       " '_i14': 'print(sampleInteger)',\n",
       " '_i15': 'sampleInteger=1\\nrefTest(sampleInteger)\\nrefTest(sampleInteger)',\n",
       " '_i16': 'print(sampleInteger)',\n",
       " '_i17': 'sampleInteger=1\\nrefTest(sampleInteger)\\nrefTest(sampleInteger)',\n",
       " '_i18': 'print(sampleInteger)',\n",
       " '_i19': 'def refTest(sampleInteger):\\n    sampleInteger=sampleInteger+1\\n    return',\n",
       " '_i2': 'import time\\nlocaltime=time.localtime(time.time())\\nprint(\"Local current time:\"+localtime)',\n",
       " '_i20': 'def refTest(sampleInteger):\\n    sampleInteger=sampleInteger+1\\n    return',\n",
       " '_i21': 'refTest(sampleInteger)\\nprint(sampleInteger)',\n",
       " '_i22': 'sampleInteger=1\\nrefTest(sampleInteger)\\nprint(sampleInteger)',\n",
       " '_i23': 'sampleInteger=1\\nrefTest(sampleInteger)\\nprint(sampleInteger)',\n",
       " '_i24': 'sampleInteger=1\\nrefTest(sampleInteger)',\n",
       " '_i25': 'def refTest(sampleInteger):\\n    sampleInteger=sampleInteger+1\\n    print(\"yoyoy\"+str(sampleInteger)\\n    return',\n",
       " '_i26': 'def refTest(sampleInteger):\\n    sampleInteger=sampleInteger+1\\n    print(\"yoyoy\"+str(sampleInteger))\\n    return',\n",
       " '_i27': 'sampleInteger=1\\nrefTest(sampleInteger)',\n",
       " '_i28': 'print(sampleInteger)',\n",
       " '_i29': 'def refTest(sampleList):\\n    sampleList.append(5)\\n    print(sampleList)\\n    return',\n",
       " '_i3': 'import time\\nlocaltime=time.localtime(time.time())\\nprint(\"Local current time:\"+str(localtime)',\n",
       " '_i30': 'sampleList=[1,2,3,4]\\nrefTest(sampleList)',\n",
       " '_i31': 'print(sampleList)',\n",
       " '_i32': 'def refTest(sampleList):\\n    sampleList=[10,20,30,40]\\n    print(sampleList)\\n    return',\n",
       " '_i33': 'sampleList=[1,2,3,4]\\nrefTest(sampleList)',\n",
       " '_i34': 'print(sampleList)',\n",
       " '_i35': \"myList=['Priyam','Dolly','Mummy','Papa']\",\n",
       " '_i36': 'myList.reverse()',\n",
       " '_i37': 'myList',\n",
       " '_i38': 'def varArguments(arg1,*args):\\n    print(arg1)\\n    for sample in args:\\n        print(sample)\\n    return',\n",
       " '_i39': 'varArguments(\"Priyam\",\"Dolly\")',\n",
       " '_i4': 'import time\\nlocaltime=time.localtime(time.time())\\nprint(\"Local current time:\"+str(localtime))',\n",
       " '_i40': 'varArguments(\"Priyam\",\"Dolly\",\"Papa\",\"Mummy\")',\n",
       " '_i41': 'varArguments(\"Priyam\")',\n",
       " '_i42': 'varArguments()',\n",
       " '_i43': 'def varArguments(arg1=\"Priyam\",*args):\\n    print(arg1)\\n    for sample in args:\\n        print(sample)\\n    return',\n",
       " '_i44': 'varArguments()',\n",
       " '_i45': 'varArguments(\"Priyam\",\"Dolly\",\"Mummy\",\"Papa\")',\n",
       " '_i46': '#Lambda Functions',\n",
       " '_i47': 'sum=lambda arg1, arg2: arg1+arg2',\n",
       " '_i48': 'sum(10,20)',\n",
       " '_i49': 'def multipleReturn(arg1, arg2):\\n    total=arg1+arg2\\n    return arg1, arg2, total',\n",
       " '_i5': 'import time\\nlocaltime=time.asctime(time.time())\\nprint(\"Local current time:\"+str(localtime))',\n",
       " '_i50': 'myTotal=multipleReturn(19,18)\\nprint(myTotal)',\n",
       " '_i51': 'myTotal=multipleReturn(19,18)\\nprint(myTotal.type})',\n",
       " '_i52': 'myTotal=multipleReturn(19,18)\\nprint(myTotal.type)',\n",
       " '_i53': 'myTotal=multipleReturn(19,18)\\nprint(type(myTotal))',\n",
       " '_i54': 'myTotal=multipleReturn(19,18)\\nprint(myTotal(0))',\n",
       " '_i55': 'myTotal=multipleReturn(19,18)\\nprint(myTotal[0])',\n",
       " '_i56': 'val1,val2=multipleReturn(19,18)\\nprint(val1)',\n",
       " '_i57': 'val1,val2,myTotal=multipleReturn(19,18)\\nprint(myTotal)',\n",
       " '_i58': 'import Modules/Test',\n",
       " '_i59': 'import Modules\\\\Test',\n",
       " '_i6': 'import time\\nlocaltime=time.asctime(time.localtime(time.time()))\\nprint(\"Local current time:\"+str(localtime))',\n",
       " '_i60': 'from Modules import Test',\n",
       " '_i61': 'from Modules import Test\\nTest.printFun(\"Priyam\")',\n",
       " '_i62': 'globals()',\n",
       " '_i63': 'locals()',\n",
       " '_i7': 'def printme(sampleText):\\n    print(sampleText)\\n    return',\n",
       " '_i8': 'printme(\"Priyam\")',\n",
       " '_i9': 'def refTest(sampleInteger):\\n    sampleInteger+=1\\n    return',\n",
       " '_ih': ['',\n",
       "  'myList.reverse()',\n",
       "  'import time\\nlocaltime=time.localtime(time.time())\\nprint(\"Local current time:\"+localtime)',\n",
       "  'import time\\nlocaltime=time.localtime(time.time())\\nprint(\"Local current time:\"+str(localtime)',\n",
       "  'import time\\nlocaltime=time.localtime(time.time())\\nprint(\"Local current time:\"+str(localtime))',\n",
       "  'import time\\nlocaltime=time.asctime(time.time())\\nprint(\"Local current time:\"+str(localtime))',\n",
       "  'import time\\nlocaltime=time.asctime(time.localtime(time.time()))\\nprint(\"Local current time:\"+str(localtime))',\n",
       "  'def printme(sampleText):\\n    print(sampleText)\\n    return',\n",
       "  'printme(\"Priyam\")',\n",
       "  'def refTest(sampleInteger):\\n    sampleInteger+=1\\n    return',\n",
       "  'sampleInteger=1\\nrefTest(sampleInteger)',\n",
       "  'print sampleInteger',\n",
       "  'print(sampleInteger)',\n",
       "  'sampleInteger=1\\nrefTest(sampleInteger)',\n",
       "  'print(sampleInteger)',\n",
       "  'sampleInteger=1\\nrefTest(sampleInteger)\\nrefTest(sampleInteger)',\n",
       "  'print(sampleInteger)',\n",
       "  'sampleInteger=1\\nrefTest(sampleInteger)\\nrefTest(sampleInteger)',\n",
       "  'print(sampleInteger)',\n",
       "  'def refTest(sampleInteger):\\n    sampleInteger=sampleInteger+1\\n    return',\n",
       "  'def refTest(sampleInteger):\\n    sampleInteger=sampleInteger+1\\n    return',\n",
       "  'refTest(sampleInteger)\\nprint(sampleInteger)',\n",
       "  'sampleInteger=1\\nrefTest(sampleInteger)\\nprint(sampleInteger)',\n",
       "  'sampleInteger=1\\nrefTest(sampleInteger)\\nprint(sampleInteger)',\n",
       "  'sampleInteger=1\\nrefTest(sampleInteger)',\n",
       "  'def refTest(sampleInteger):\\n    sampleInteger=sampleInteger+1\\n    print(\"yoyoy\"+str(sampleInteger)\\n    return',\n",
       "  'def refTest(sampleInteger):\\n    sampleInteger=sampleInteger+1\\n    print(\"yoyoy\"+str(sampleInteger))\\n    return',\n",
       "  'sampleInteger=1\\nrefTest(sampleInteger)',\n",
       "  'print(sampleInteger)',\n",
       "  'def refTest(sampleList):\\n    sampleList.append(5)\\n    print(sampleList)\\n    return',\n",
       "  'sampleList=[1,2,3,4]\\nrefTest(sampleList)',\n",
       "  'print(sampleList)',\n",
       "  'def refTest(sampleList):\\n    sampleList=[10,20,30,40]\\n    print(sampleList)\\n    return',\n",
       "  'sampleList=[1,2,3,4]\\nrefTest(sampleList)',\n",
       "  'print(sampleList)',\n",
       "  \"myList=['Priyam','Dolly','Mummy','Papa']\",\n",
       "  'myList.reverse()',\n",
       "  'myList',\n",
       "  'def varArguments(arg1,*args):\\n    print(arg1)\\n    for sample in args:\\n        print(sample)\\n    return',\n",
       "  'varArguments(\"Priyam\",\"Dolly\")',\n",
       "  'varArguments(\"Priyam\",\"Dolly\",\"Papa\",\"Mummy\")',\n",
       "  'varArguments(\"Priyam\")',\n",
       "  'varArguments()',\n",
       "  'def varArguments(arg1=\"Priyam\",*args):\\n    print(arg1)\\n    for sample in args:\\n        print(sample)\\n    return',\n",
       "  'varArguments()',\n",
       "  'varArguments(\"Priyam\",\"Dolly\",\"Mummy\",\"Papa\")',\n",
       "  '#Lambda Functions',\n",
       "  'sum=lambda arg1, arg2: arg1+arg2',\n",
       "  'sum(10,20)',\n",
       "  'def multipleReturn(arg1, arg2):\\n    total=arg1+arg2\\n    return arg1, arg2, total',\n",
       "  'myTotal=multipleReturn(19,18)\\nprint(myTotal)',\n",
       "  'myTotal=multipleReturn(19,18)\\nprint(myTotal.type})',\n",
       "  'myTotal=multipleReturn(19,18)\\nprint(myTotal.type)',\n",
       "  'myTotal=multipleReturn(19,18)\\nprint(type(myTotal))',\n",
       "  'myTotal=multipleReturn(19,18)\\nprint(myTotal(0))',\n",
       "  'myTotal=multipleReturn(19,18)\\nprint(myTotal[0])',\n",
       "  'val1,val2=multipleReturn(19,18)\\nprint(val1)',\n",
       "  'val1,val2,myTotal=multipleReturn(19,18)\\nprint(myTotal)',\n",
       "  'import Modules/Test',\n",
       "  'import Modules\\\\Test',\n",
       "  'from Modules import Test',\n",
       "  'from Modules import Test\\nTest.printFun(\"Priyam\")',\n",
       "  'globals()',\n",
       "  'locals()'],\n",
       " '_ii': 'from Modules import Test\\nTest.printFun(\"Priyam\")',\n",
       " '_iii': 'from Modules import Test',\n",
       " '_oh': {37: ['Papa', 'Mummy', 'Dolly', 'Priyam'], 48: 30, 62: {...}},\n",
       " 'exit': <IPython.core.autocall.ZMQExitAutocall at 0x1840ea192b0>,\n",
       " 'get_ipython': <bound method InteractiveShell.get_ipython of <ipykernel.zmqshell.ZMQInteractiveShell object at 0x000001840E9C59B0>>,\n",
       " 'localtime': 'Mon Mar 25 12:28:00 2019',\n",
       " 'multipleReturn': <function __main__.multipleReturn>,\n",
       " 'myList': ['Papa', 'Mummy', 'Dolly', 'Priyam'],\n",
       " 'myTotal': 37,\n",
       " 'printme': <function __main__.printme>,\n",
       " 'quit': <IPython.core.autocall.ZMQExitAutocall at 0x1840ea192b0>,\n",
       " 'refTest': <function __main__.refTest>,\n",
       " 'sampleInteger': 1,\n",
       " 'sampleList': [1, 2, 3, 4],\n",
       " 'sum': <function __main__.<lambda>>,\n",
       " 'time': <module 'time' (built-in)>,\n",
       " 'val1': 19,\n",
       " 'val2': 18,\n",
       " 'varArguments': <function __main__.varArguments>}"
      ]
     },
     "execution_count": 63,
     "metadata": {},
     "output_type": "execute_result"
    }
   ],
   "source": [
    "locals()"
   ]
  },
  {
   "cell_type": "markdown",
   "metadata": {},
   "source": [
    "#Files I/O"
   ]
  },
  {
   "cell_type": "code",
   "execution_count": 66,
   "metadata": {},
   "outputs": [
    {
     "name": "stdout",
     "output_type": "stream",
     "text": [
      "Enter your input:Heya!!My name is Priyam\n"
     ]
    }
   ],
   "source": [
    "strInput=input(\"Enter your input:\")"
   ]
  },
  {
   "cell_type": "code",
   "execution_count": 67,
   "metadata": {},
   "outputs": [
    {
     "name": "stdout",
     "output_type": "stream",
     "text": [
      "Heya!!My name is Priyam\n"
     ]
    }
   ],
   "source": [
    "print(strInput)"
   ]
  },
  {
   "cell_type": "code",
   "execution_count": null,
   "metadata": {},
   "outputs": [],
   "source": []
  }
 ],
 "metadata": {
  "kernelspec": {
   "display_name": "Python 3",
   "language": "python",
   "name": "python3"
  },
  "language_info": {
   "codemirror_mode": {
    "name": "ipython",
    "version": 3
   },
   "file_extension": ".py",
   "mimetype": "text/x-python",
   "name": "python",
   "nbconvert_exporter": "python",
   "pygments_lexer": "ipython3",
   "version": "3.6.4"
  }
 },
 "nbformat": 4,
 "nbformat_minor": 2
}
